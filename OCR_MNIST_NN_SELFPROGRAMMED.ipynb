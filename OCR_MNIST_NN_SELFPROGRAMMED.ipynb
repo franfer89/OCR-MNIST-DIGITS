{
 "cells": [
  {
   "cell_type": "markdown",
   "metadata": {},
   "source": [
    "# OCR MNIST DIGITS - Self programmed\n",
    "\n",
    "The objective of this notebook is to make an OCR with neural networks.\n",
    "This is exercise is for learning purpose, so do not expect an optimized solution.\n",
    "The data used shall be MNIST digits.\n",
    "\n",
    "The problem is obtained from:\n",
    "\n",
    "https://www.kaggle.com/c/digit-recognizer/data\n",
    "\n"
   ]
  },
  {
   "cell_type": "markdown",
   "metadata": {},
   "source": [
    "# Import libraries:"
   ]
  },
  {
   "cell_type": "code",
   "execution_count": 1,
   "metadata": {},
   "outputs": [],
   "source": [
    "import numpy as np\n",
    "import matplotlib.pyplot as plt\n",
    "import time"
   ]
  },
  {
   "cell_type": "markdown",
   "metadata": {},
   "source": [
    "# Data\n",
    "\n",
    "Data is in file \"train.csv\".\n",
    "\n",
    "First column: label y (from 0->9)\n",
    "\n",
    "Following 784 columns: pixels in order 28X28\n",
    "\n",
    "Pixels range value: 0..255"
   ]
  },
  {
   "cell_type": "markdown",
   "metadata": {},
   "source": [
    "## Import data:"
   ]
  },
  {
   "cell_type": "code",
   "execution_count": 2,
   "metadata": {},
   "outputs": [],
   "source": [
    "data_train=np.genfromtxt(\"train.csv\", unpack=True, skip_header=1,delimiter=\",\")"
   ]
  },
  {
   "cell_type": "markdown",
   "metadata": {},
   "source": [
    "## Normalization of data:"
   ]
  },
  {
   "cell_type": "markdown",
   "metadata": {},
   "source": [
    "Usually in a Deep learning problem it is used: training data, cross-validation data and test data. Kaggle problem gives a specific set for test data that is used to check the full model.\n",
    "\n",
    "Note that usually (for example in Tensorflow) in data matrix, the data is ordered: (training sample,data). However, in this exercise, data shall be ordered (data,training sample)."
   ]
  },
  {
   "cell_type": "code",
   "execution_count": 3,
   "metadata": {},
   "outputs": [
    {
     "name": "stdout",
     "output_type": "stream",
     "text": [
      "Full training data shape: (785, 42000)\n",
      "Training data:  38000\n",
      "Cross Validation data:  4000\n",
      "x training data shape: (784, 38000)\n",
      "Y training data shape: (10, 38000)\n",
      "x CV data shape: (784, 4000)\n",
      "Y CV data shape: (10, 4000)\n",
      "Number of training data: 38000\n",
      "Number of features: 784\n",
      "Images are: 28 x 28\n"
     ]
    }
   ],
   "source": [
    "print(\"Full training data shape: (%d, %d)\" % data_train.shape)\n",
    "\n",
    "# NC: number of categories\n",
    "NC=10\n",
    "\n",
    "# NP: number of pixels in the image\n",
    "NP=round((data_train.shape[0]-1)**0.5)\n",
    "\n",
    "# m: number of data images provided\n",
    "m=data_train.shape[1]\n",
    "\n",
    "# 90% training / 10% cross validation aprox.\n",
    "m_CV=4000\n",
    "m_train=m-m_CV\n",
    "\n",
    "print(\"Training data: \",m_train)\n",
    "print(\"Cross Validation data: \",m_CV)\n",
    "\n",
    "# Train data\n",
    "## Label\n",
    "### Sparse categorical\n",
    "y_train=data_train[0,0:m_train].reshape(1,-1)\n",
    "### One_hot categorical\n",
    "Y_train=np.zeros((10,y_train.shape[1]))\n",
    "Y_train[y_train.astype(int),range(y_train.shape[1])]=1\n",
    "## Image data\n",
    "xx_train=data_train[1:data_train.shape[0],0:m_train]/255\n",
    "### Around each digit there is a black frame which can be removed. Cut gives the number of pixels removed from the frame.\n",
    "cut=0\n",
    "x_train=((xx_train.T.reshape(m_train,NP,NP))[:,cut:NP-cut,cut:NP-cut].reshape(m_train,-1)).T\n",
    "\n",
    "# Train data\n",
    "## Label\n",
    "### Sparse categorical\n",
    "y_CV=data_train[0,m_train:].reshape(1,-1)\n",
    "### One_hot categorical\n",
    "Y_CV=np.zeros((10,y_CV.shape[1]))\n",
    "Y_CV[y_CV.astype(int),range(y_CV.shape[1])]=1\n",
    "## Image data\n",
    "xx_CV=data_train[1:data_train.shape[0],m_train:]/255\n",
    "x_CV=((xx_CV.T.reshape(m_CV,NP,NP))[:,cut:NP-cut,cut:NP-cut].reshape(m_CV,-1)).T\n",
    "\n",
    "print(\"x training data shape: (%d, %d)\" % x_train.shape)\n",
    "print(\"Y training data shape: (%d, %d)\" % Y_train.shape)\n",
    "print(\"x CV data shape: (%d, %d)\" % x_CV.shape)\n",
    "print(\"Y CV data shape: (%d, %d)\" % Y_CV.shape)\n",
    "print(\"Number of training data: %d\" % m_train)\n",
    "n_x=x_train.shape[0]\n",
    "print(\"Number of features: %d\" % n_x)\n",
    "NP=NP-2*cut\n",
    "print(\"Images are: %d x %d\" %(NP,NP))"
   ]
  },
  {
   "cell_type": "markdown",
   "metadata": {},
   "source": [
    "## Understanding of the data:"
   ]
  },
  {
   "cell_type": "code",
   "execution_count": 4,
   "metadata": {},
   "outputs": [
    {
     "name": "stdout",
     "output_type": "stream",
     "text": [
      "Following picture is label as 3\n",
      "(28, 28)\n"
     ]
    },
    {
     "data": {
      "image/png": "[encoded data removed]",
      "text/plain": [
       "<Figure size 432x288 with 1 Axes>"
      ]
     },
     "metadata": {
      "needs_background": "light"
     },
     "output_type": "display_data"
    }
   ],
   "source": [
    "example2plot=1050\n",
    "print(\"Following picture is label as %d\" % y_train[0,example2plot])\n",
    "example=(x_train[:,example2plot].reshape(NP,NP))\n",
    "print(example.shape)\n",
    "imgplot = plt.imshow(example)\n",
    "\n"
   ]
  },
  {
   "cell_type": "markdown",
   "metadata": {},
   "source": [
    "# Definition of activation functions"
   ]
  },
  {
   "cell_type": "code",
   "execution_count": 5,
   "metadata": {},
   "outputs": [],
   "source": [
    "def relu(z):\n",
    "    return ((z>0)*z).reshape(z.shape[0],z.shape[1])"
   ]
  },
  {
   "cell_type": "code",
   "execution_count": 6,
   "metadata": {},
   "outputs": [],
   "source": [
    "def relu_derivate(z):\n",
    "    return ((z>0)*1).reshape(z.shape[0],z.shape[1])"
   ]
  },
  {
   "cell_type": "code",
   "execution_count": 7,
   "metadata": {},
   "outputs": [],
   "source": [
    "def sigmoid(z):\n",
    "    return (1/(1+np.exp(-z))).reshape(z.shape[0],z.shape[1])"
   ]
  },
  {
   "cell_type": "code",
   "execution_count": 8,
   "metadata": {},
   "outputs": [],
   "source": [
    "def sigmoid_derivate(z):\n",
    "    aux=sigmoid(z)\n",
    "    return (aux*(1-aux)).reshape(z.shape[0],z.shape[1])"
   ]
  },
  {
   "cell_type": "code",
   "execution_count": 9,
   "metadata": {},
   "outputs": [],
   "source": [
    "def softmax(z):\n",
    "    return (np.exp(z)/((np.exp(z)).sum(axis=0)).reshape(1,z.shape[1])).reshape(z.shape[0],z.shape[1])"
   ]
  },
  {
   "cell_type": "markdown",
   "metadata": {},
   "source": [
    "# Definition of the neural network parameters"
   ]
  },
  {
   "cell_type": "code",
   "execution_count": 10,
   "metadata": {},
   "outputs": [
    {
     "name": "stdout",
     "output_type": "stream",
     "text": [
      "Layer 1: has 324 neurons of type relu\n",
      "Layer 2: has 324 neurons of type relu\n",
      "Layer 3: has 10 neurons of type softmax\n"
     ]
    }
   ],
   "source": [
    "# Number of layers\n",
    "L=3\n",
    "\n",
    "# Neurons per layer\n",
    "n_h=[324,324,10]\n",
    "\n",
    "# Type of activation at each layer\n",
    "typeN=[\"relu\",\"relu\",\"softmax\"]\n",
    "\n",
    "for i in range(L):\n",
    "    print(\"Layer %d: has %d neurons of type %s\" % (i+1, n_h[i], typeN[i]))"
   ]
  },
  {
   "cell_type": "markdown",
   "metadata": {},
   "source": [
    "# NN Model functions"
   ]
  },
  {
   "cell_type": "markdown",
   "metadata": {},
   "source": [
    "## Function to initialize\n",
    "\n",
    "**For relu / linear:**\n",
    "\n",
    "In initialitation, the factor *np.sqrt(2/nn[l])* is applied to avoid canishing/exploding gradients in large deep neural networks.\n",
    "\n",
    "**For sigmoid / softmax:**\n",
    "\n",
    "In initialitation, the factor *np.sqrt(1/nn[l])* is applied to avoid canishing/exploding gradients in large deep neural networks."
   ]
  },
  {
   "cell_type": "code",
   "execution_count": 11,
   "metadata": {},
   "outputs": [],
   "source": [
    "def initialize_NN(L,n_x,n_h,typeN):\n",
    "    ## This function initialize the neural network creating a dictionary call parameters.\n",
    "    ## INPUTS\n",
    "    ##### L: number of layers\n",
    "    ##### n_x: length of input vector\n",
    "    ##### n_h: list with the number of neurons in each layer\n",
    "    ##### typeN: type of activation applied at each layer\n",
    "    ## OUTPUTS\n",
    "    ##### parameters dictionary, contains \"W_\" and \"b_\" of each layer.\n",
    "    nn=[n_x]+n_h\n",
    "    parameters={}\n",
    "    for l in range(L):\n",
    "        if ((typeN[l]==\"relu\")|(typeN[l]==\"linear\")):\n",
    "            parameters[\"W\"+str(l+1)]=np.random.randn(nn[l+1],nn[l])*np.sqrt(2/nn[l])\n",
    "        if ((typeN[l]==\"sigmoid\")|(typeN[l]==\"softmax\")):\n",
    "            parameters[\"W\"+str(l+1)]=np.random.randn(nn[l+1],nn[l])*np.sqrt(1/nn[l])\n",
    "        parameters[\"b\"+str(l+1)]=np.zeros((nn[l+1],1))\n",
    "    return parameters"
   ]
  },
  {
   "cell_type": "markdown",
   "metadata": {},
   "source": [
    "## Feedforward functions"
   ]
  },
  {
   "cell_type": "code",
   "execution_count": 12,
   "metadata": {},
   "outputs": [],
   "source": [
    "def feedforward_layer(parameters,typeN,l,A_prev):\n",
    "    ## feedforward of a layer\n",
    "    ## INPUTS:\n",
    "    ##### parameters: parameters of all the layers (\"W_\" and \"b_\")\n",
    "    ##### typeN: type of activation applied at each layer\n",
    "    ##### l: current layer that is going to be feedforwarded\n",
    "    ##### A_prev: activation from previous layer\n",
    "    ## OUTPUTS\n",
    "    ##### Z = W @ A_prev + b\n",
    "    ##### A = Activation(Z)\n",
    "    \n",
    "    m=A_prev.shape[1]\n",
    "    \n",
    "    W=parameters[\"W\"+str(l)]\n",
    "    b=parameters[\"b\"+str(l)]\n",
    "    \n",
    "    n_h=W.shape[0]\n",
    "    \n",
    "    Z=W@A_prev+b\n",
    "    \n",
    "    Z=Z.reshape(n_h,m)\n",
    "    \n",
    "    if typeN[l-1]==\"relu\":\n",
    "        A=relu(Z)\n",
    "    if typeN[l-1]==\"sigmoid\":\n",
    "        A=sigmoid(Z)\n",
    "    if typeN[l-1]==\"softmax\":\n",
    "        A=softmax(Z)\n",
    "    if typeN[l-1]==\"linear\":\n",
    "        A=np.copy(Z)\n",
    "    return A,Z"
   ]
  },
  {
   "cell_type": "code",
   "execution_count": 13,
   "metadata": {},
   "outputs": [],
   "source": [
    "def feedforward_model(parameters,typeN,X):\n",
    "    ## feedforward the complete neural network\n",
    "    ## INPUTS\n",
    "    ##### parameters: parameters of all the layers (\"W_\" and \"b_\")\n",
    "    ##### typeN: type of activation applied at each layer\n",
    "    ##### X: input matrix: (data,training samples)\n",
    "    ## OUTPUTS\n",
    "    ##### Z dictionary with the values at every layer\n",
    "    ##### A dictionary with the value of activations at every layer: A[1],A[2]...A[L]\n",
    "    \n",
    "    L=len(parameters)//2\n",
    "    A={}\n",
    "    Z={}\n",
    "    \n",
    "    A_prev=X\n",
    "    for l in range(L):\n",
    "        A[l+1],Z[l+1] = feedforward_layer(parameters,typeN,l+1,A_prev)\n",
    "        A_prev=A[l+1]\n",
    "        \n",
    "    return A,Z\n",
    "    \n",
    "    "
   ]
  },
  {
   "cell_type": "markdown",
   "metadata": {},
   "source": [
    "## Back propagation functions"
   ]
  },
  {
   "cell_type": "code",
   "execution_count": 14,
   "metadata": {},
   "outputs": [],
   "source": [
    "def backprop_layer(parameters,typeN,l,A_lm1,Z_lm1,grad_l):\n",
    "    ## backprop of a layer: calculation of dW_l, db_l and gradient respect Z_(l-1) at l-1\n",
    "    ## INPUTS:\n",
    "    ##### parameters: parameters of all the layers (\"W_\" and \"b_\")\n",
    "    ##### typeN: type of activation applied at each layer\n",
    "    ##### l: current layer that is going to be feedforwarded\n",
    "    ##### A_lm1: activation from layer l-1\n",
    "    ##### Z_lm1: Z from layer l-1\n",
    "    ##### grad_l\n",
    "    ## OUTPUTS\n",
    "    ##### dW: dcost/dW at layer l\n",
    "    ##### db: dcost/db at layer l\n",
    "    ##### grad_lm1: dcost/dZ_(l-1) at layer l-1\n",
    "        \n",
    "    m=A_lm1.shape[1]\n",
    "    W=parameters[\"W\"+str(l)]\n",
    "    dW=(1/m*grad_l@A_lm1.T).reshape(W.shape[0],W.shape[1])\n",
    "    db=(1/m*np.sum(grad_l,axis=1,keepdims=True)).reshape(W.shape[0],1)\n",
    "    if l!=1:\n",
    "        grad_lm1=(W.T@grad_l)\n",
    "        if typeN[l-1]==\"relu\":\n",
    "            grad_lm1=grad_lm1*relu_derivate(Z_lm1)\n",
    "        if typeN[l-1]==\"sigmoid\":\n",
    "            grad_lm1=grad_lm1*sigmoid_derivate(Z_lm1)\n",
    "    else:\n",
    "        grad_lm1=0\n",
    "    return dW,db,grad_lm1"
   ]
  },
  {
   "cell_type": "code",
   "execution_count": 15,
   "metadata": {},
   "outputs": [],
   "source": [
    "def backprop_model(parameters,typeN,X,Y,A,Z):\n",
    "    ## backprop of a layer: calculation of dW_l, db_l and gradient respect Z_(l-1) at l-1\n",
    "    ## INPUTS:\n",
    "    ##### parameters: parameters of all the layers (\"W_\" and \"b_\")\n",
    "    ##### typeN: type of activation applied at each layer\n",
    "    ##### X: input matrix: (data,training samples)\n",
    "    ##### Y: label in one-hot categorical (label,training samples)\n",
    "    ##### A dictionary with the value of activations at every layer: A[1],A[2]...A[L]\n",
    "    ##### Z dictionary with the values at every layer\n",
    "    ## OUTPUTS\n",
    "    ##### grads: dictionary containing for each layer [dW_] and [db_]\n",
    "    L=len(parameters)//2\n",
    "    ## dcost/dZ_l for last layer is always A[L]-Y independently of activation.\n",
    "    ## This was checked for relu, linear, sigmoid and softmax, with cross entropy loss\n",
    "    grad_l=A[L]-Y\n",
    "    A[0]=X\n",
    "    Z[0]=X\n",
    "    grads={}\n",
    "    for l in range(L,0,-1):\n",
    "        grads[\"dW\"+str(l)], grads[\"db\"+str(l)], grad_l=backprop_layer(parameters,typeN,l,A[l-1],Z[l-1],grad_l)  \n",
    "    return grads"
   ]
  },
  {
   "cell_type": "code",
   "execution_count": 16,
   "metadata": {},
   "outputs": [],
   "source": [
    "def RegularizationL2(parameters,grads,lambda_regularization,m):\n",
    "    ## Add L2 regularization to grads\n",
    "    ## INPUTS:\n",
    "    ##### parameters: parameters of all the layers (\"W_\" and \"b_\")\n",
    "    ##### grads: dictionary containing for each layer [dW_] and [db_]\n",
    "    ##### lambda_regularization: regularization parameter lambda\n",
    "    ##### m: number of training samples\n",
    "    ## OUTPUTS\n",
    "    ##### grads corrected with L2 regularization\n",
    "    L=len(parameters)//2\n",
    "    for l in range(L):\n",
    "        grads[\"dW\"+str(l+1)]=grads[\"dW\"+str(l+1)]+parameters[\"W\"+str(l+1)]*lambda_regularization/m\n",
    "    return grads"
   ]
  },
  {
   "cell_type": "markdown",
   "metadata": {},
   "source": [
    "## Cost functions"
   ]
  },
  {
   "cell_type": "code",
   "execution_count": 17,
   "metadata": {},
   "outputs": [],
   "source": [
    "def sigmoid_cost(Y_estimated,Y):\n",
    "    m=Y.shape[1]\n",
    "    cost =np.sum(-1/m*(Y*np.log(Y_estimated)+(1-Y)*np.log(1-Y_estimated)))\n",
    "    return cost"
   ]
  },
  {
   "cell_type": "code",
   "execution_count": 18,
   "metadata": {},
   "outputs": [],
   "source": [
    "def softmax_cost(Y_estimated,Y):\n",
    "    m=Y.shape[1]\n",
    "    cost =np.sum(-1/m*(Y*np.log(Y_estimated)))\n",
    "    return cost"
   ]
  },
  {
   "cell_type": "code",
   "execution_count": 19,
   "metadata": {},
   "outputs": [],
   "source": [
    "def linear_cost(Y_estimated,Y):\n",
    "    m=Y.shape[1]\n",
    "    cost =np.sum(1/2/m*(Y-Y_estimated)**2)\n",
    "    return cost"
   ]
  },
  {
   "cell_type": "code",
   "execution_count": 20,
   "metadata": {},
   "outputs": [],
   "source": [
    "def loss_function(typeN):\n",
    "    if typeN[-1]==\"sigmoid\":\n",
    "        def loss(Y_estimated,Y):\n",
    "            m=Y.shape[1]\n",
    "            cost =np.sum(-1/m*(Y*np.log(Y_estimated)+(1-Y)*np.log(1-Y_estimated)))\n",
    "            return cost\n",
    "    if typeN[-1]==\"softmax\":\n",
    "        def loss(Y_estimated,Y):\n",
    "            m=Y.shape[1]\n",
    "            cost =np.sum(-1/m*(Y*np.log(Y_estimated)))\n",
    "            return cost\n",
    "    if typeN[-1]==\"linear\":\n",
    "        def loss(Y_estimated,Y):\n",
    "            m=Y.shape[1]\n",
    "            cost =np.sum(1/2/m*(Y-Y_estimated)**2)\n",
    "            return cost\n",
    "    return loss"
   ]
  },
  {
   "cell_type": "code",
   "execution_count": 21,
   "metadata": {},
   "outputs": [],
   "source": [
    "def RegularizationL2_cost(parameters,lambda_regularization,m):\n",
    "    cost=0\n",
    "    for l in range(len(parameters)//2):\n",
    "        cost=cost+np.sum(parameters[\"W\"+str(l+1)]**2*lambda_regularization/m/2)\n",
    "    return cost"
   ]
  },
  {
   "cell_type": "markdown",
   "metadata": {},
   "source": [
    "## Update function"
   ]
  },
  {
   "cell_type": "code",
   "execution_count": 22,
   "metadata": {},
   "outputs": [],
   "source": [
    "def update_parameters(parameters,grads,learning_rate):\n",
    "    ## Update parameters after a feedforward-backprop\n",
    "    ## INPUTS:\n",
    "    ##### parameters: parameters of all the layers (\"W_\" and \"b_\")\n",
    "    ##### grads: dictionary containing for each layer [dW_] and [db_]\n",
    "    ##### learning_rate: learning rate\n",
    "    ## OUTPUTS\n",
    "    ##### parameters: parameters of all the layers (\"W_\" and \"b_\")\n",
    "    L=len(parameters)//2\n",
    "    for l in range(L):\n",
    "        parameters[\"W\"+str(l+1)]=parameters[\"W\"+str(l+1)]-grads[\"dW\"+str(l+1)]*learning_rate\n",
    "        parameters[\"b\"+str(l+1)]=parameters[\"b\"+str(l+1)]-grads[\"db\"+str(l+1)]*learning_rate\n",
    "    return parameters"
   ]
  },
  {
   "cell_type": "markdown",
   "metadata": {},
   "source": [
    "## Prediction & Accuracy functions"
   ]
  },
  {
   "cell_type": "code",
   "execution_count": 23,
   "metadata": {},
   "outputs": [],
   "source": [
    "def prediction(parameters,typeN,X):\n",
    "    ## Predict category\n",
    "    ## INPUTS:\n",
    "    ##### parameters: parameters of all the layers (\"W_\" and \"b_\")\n",
    "    ##### typeN: type of activation applied at each layer\n",
    "    ##### X: input matrix: (data,training samples)\n",
    "    ## OUTPUTS\n",
    "    ##### y: sparse categorical (prediction,training samples)\n",
    "    A,Z = feedforward_model(parameters,typeN,X)\n",
    "    Y = A[len(parameters)//2]\n",
    "    ypred = Y.argmax(axis=0)\n",
    "    ypred = ypred.reshape(1,-1)\n",
    "    return ypred\n",
    "\n",
    "def evaluate(parameters,typeN,X):\n",
    "    ## evaluate across NN\n",
    "    ## INPUTS:\n",
    "    ##### parameters: parameters of all the layers (\"W_\" and \"b_\")\n",
    "    ##### typeN: type of activation applied at each layer\n",
    "    ##### X: input matrix: (data,training samples)\n",
    "    ## OUTPUTS\n",
    "    ##### y: probability ditribution of categories (prob.distribution,training samples)\n",
    "    A,Z = feedforward_model(parameters,typeN,X)\n",
    "    Y = A[len(parameters)//2]\n",
    "    return Y\n",
    "\n",
    "def accuracy(y_pred,y_test):\n",
    "    ## Checks accuracy of prediction\n",
    "    ## INPUTS:\n",
    "    ##### y_pred: prediction sparse categorical (prediction,training samples)\n",
    "    ##### y_test: real value sparse categorical (prediction,training samples)\n",
    "    ## OUTPUTS\n",
    "    ##### acc: accuracy\n",
    "    acc=((y_pred==y_test).sum())/y_test.shape[1]\n",
    "    return acc\n",
    "\n",
    "def Y2y(Y):\n",
    "    ## Gets Y in categorical, transform it to one-hot categorical and finally outputs y sparse categorical.\n",
    "    y=Y.argmax(axis=0)\n",
    "    y=y.reshape(1,-1)\n",
    "    return y"
   ]
  },
  {
   "cell_type": "markdown",
   "metadata": {},
   "source": [
    "# Solver functions"
   ]
  },
  {
   "cell_type": "markdown",
   "metadata": {},
   "source": [
    "## Exponentially Weighted average"
   ]
  },
  {
   "cell_type": "code",
   "execution_count": 24,
   "metadata": {},
   "outputs": [],
   "source": [
    "def EWA(gradnew,gradold,n_x,n_h,beta1=0.9):\n",
    "    ## Exponentially weighted average of grad.\n",
    "    ## INPUTS:\n",
    "    ##### gradnew: grad calculated in current feedforward - backprop iteration\n",
    "    ##### gradold: grad calculated in previous iteration\n",
    "    ##### n_x: length of input vector\n",
    "    ##### n_h: list with the number of neurons in each layer\n",
    "    ##### beta1: parameter to weight average, normally 0.9.\n",
    "    ## OUTPUTS\n",
    "    ##### gradold: grad updated according to: (beta1*gradold+(1-beta1)*gradnew)\n",
    "    L=len(gradnew)//2\n",
    "    for l in range(L):\n",
    "        gradold[\"dW\"+str(l+1)]=(beta1*gradold[\"dW\"+str(l+1)]+(1-beta1)*gradnew[\"dW\"+str(l+1)])\n",
    "        gradold[\"db\"+str(l+1)]=(beta1*gradold[\"db\"+str(l+1)]+(1-beta1)*gradnew[\"db\"+str(l+1)])\n",
    "    return gradold"
   ]
  },
  {
   "cell_type": "code",
   "execution_count": 25,
   "metadata": {},
   "outputs": [],
   "source": [
    "def initialize_grad(L,n_x,n_h,bias=0):\n",
    "    ## Initialize grad to zero. Only needed if EWA is going to be used.\n",
    "    ## INPUTS:\n",
    "    ##### L: number of layers\n",
    "    ##### n_x: length of input vector\n",
    "    ##### n_h: list with the number of neurons in each layer\n",
    "    ##### bias: to initialize to a value different than zero\n",
    "    ## OUTPUTS\n",
    "    ##### grads: dictionary containing for each layer [dW_] and [db_]\n",
    "    nn=[n_x]+n_h\n",
    "    grads={}\n",
    "    for l in range(L):\n",
    "        grads[\"dW\"+str(l+1)]=np.zeros((nn[l+1],nn[l]))+bias\n",
    "        grads[\"db\"+str(l+1)]=np.zeros((nn[l+1],1))+bias\n",
    "    return grads"
   ]
  },
  {
   "cell_type": "markdown",
   "metadata": {},
   "source": [
    "## Functions for ADAM solver"
   ]
  },
  {
   "cell_type": "code",
   "execution_count": 26,
   "metadata": {},
   "outputs": [],
   "source": [
    "def RMS(gradnew,S_old,n_x,n_h,beta2=0.999):\n",
    "    ## This function calculates square of grad (S=grad**2) and does an EWA with previous value\n",
    "    ## INPUTS:\n",
    "    ##### gradnew: grad calculated in current feedforward - backprop iteration\n",
    "    ##### S_old: grad squared calculated in previous iteration\n",
    "    ##### n_x: length of input vector\n",
    "    ##### n_h: list with the number of neurons in each layer\n",
    "    ##### beta2: parameter to weight average, normally 0.999.\n",
    "    ## OUTPUTS\n",
    "    ##### aux: grad squared updated according to: (beta2*S_old+(1-beta1)*gradnew**2)\n",
    "    L=len(gradnew)//2\n",
    "    aux={}\n",
    "    for l in range(L):\n",
    "        aux[\"dW\"+str(l+1)]=(beta2*S_old[\"dW\"+str(l+1)]+(1-beta2)*gradnew[\"dW\"+str(l+1)]**2)\n",
    "        aux[\"db\"+str(l+1)]=(beta2*S_old[\"db\"+str(l+1)]+(1-beta2)*gradnew[\"db\"+str(l+1)]**2)\n",
    "    return aux\n",
    "    "
   ]
  },
  {
   "cell_type": "code",
   "execution_count": 27,
   "metadata": {},
   "outputs": [],
   "source": [
    "def ADAM_grad(grads,V,S,n_x,n_h,beta1=0.9,beta2=0.999,counter=1e6,epsilon=1E-8):\n",
    "    ## This function corrects grad according to ADAM algorithm\n",
    "    ## INPUTS:\n",
    "    ##### grads: grad calculated in current feedforward - backprop iteration\n",
    "    ##### V: grad calculated in previous iteration without RMS correction\n",
    "    ##### S: grad squared calculated in previous iteration\n",
    "    ##### n_x: length of input vector\n",
    "    ##### n_h: list with the number of neurons in each layer\n",
    "    ##### beta1: parameter to weight average in EWA, normally 0.9.\n",
    "    ##### beta2: parameter to weight average in RMS, normally 0.999.\n",
    "    ##### counter: number of ADAM runs\n",
    "    ##### epsilon: parameter to avoid RMS vanishing.\n",
    "    ## OUTPUTS\n",
    "    ##### grads: grad calculated in current feedforward - backprop iteration updated with ADAM\n",
    "    ##### V: V updated\n",
    "    ##### S: S updated\n",
    "    ##### counter: counter updated\n",
    "    L=len(grads)//2\n",
    "    V=EWA(grads,V,n_x,n_h,beta1)\n",
    "    S=RMS(grads,S,n_x,n_h,beta2)\n",
    "    for l in range(L):\n",
    "        grads[\"dW\"+str(l+1)]=V[\"dW\"+str(l+1)]/(np.sqrt(S[\"dW\"+str(l+1)]/(1-beta2**counter))+epsilon)/(1-beta1**counter)\n",
    "        grads[\"db\"+str(l+1)]=V[\"db\"+str(l+1)]/(np.sqrt(S[\"db\"+str(l+1)]/(1-beta2**counter))+epsilon)/(1-beta1**counter)\n",
    "    counter=counter+1\n",
    "    return grads,V,S,counter"
   ]
  },
  {
   "cell_type": "markdown",
   "metadata": {},
   "source": [
    "## Model function\n",
    "\n",
    "The model includes:\n",
    "\n",
    "**Reduction on plateau of learning rate**\n",
    "\n",
    "Controlled with:\n",
    "\n",
    "*learning_rate_reduction*\n",
    "\n",
    "*min_learning_rate*\n",
    "\n",
    "*learning_rate_patience*\n",
    "\n",
    "**early stopping**\n",
    "\n",
    "Early stopping applied in cost_CV. Controlled with:\n",
    "\n",
    "*early_stopping* (patience)\n"
   ]
  },
  {
   "cell_type": "code",
   "execution_count": 52,
   "metadata": {},
   "outputs": [],
   "source": [
    "#modelo\n",
    "def model(x_train,Y_train,x_CV,Y_CV,L,n_h,typeN,\n",
    "               solver_parameters,iterations=1):\n",
    "    ## Function to run the model\n",
    "    ## INPUTS:\n",
    "    ##### x_train: input matrix: (data,training samples)\n",
    "    ##### Y_train: categorical one-hot (one-hot labels,training samples)\n",
    "    ##### x_CV: x data for cross-validation\n",
    "    ##### Y_CV: Y data for cross-validation\n",
    "    ##### L: number of layers\n",
    "    ##### n_h: list with the number of neurons in each layer\n",
    "    ##### typeN: type of activation applied at each layer\n",
    "    ##### solver_parameters[\"lambda_regularization\"]: lambda regularization parameter, default to 0\n",
    "    ##### solver_parameters[\"learning_rate\"]:learning rate, default to 0.1\n",
    "    ##### solver_parameters[\"learning_rate_reduction\"]:learning rate reduction factor, default to 1\n",
    "    ##### solver_parameters[\"min_learning_rate\"]:minimum learning rate, default to 0\n",
    "    ##### solver_parameters[\"learning_rate_patience\"]:learning rate patience to apply reduction, default to 1e6\n",
    "    ##### solver_parameters[\"b\"]: batch size, mandatory to define unless type = \"GradientDescent\"\n",
    "    ##### solver_parameters[\"early_stopping\"]: patience before stopping, default no early stopping\n",
    "    ##### solver_parameters[\"beta1\"]: beta parameters for EWA, default to 0.9\n",
    "    ##### solver_parameters[\"beta2\"]: beta parameters for RMS, default to 0.999\n",
    "    ##### solver_parameters[\"Type\"]=\"ADAM\", \"GradientDescent\",\"GradientDescentMiniBatch\",\"GradientDescentMomentum\". Mandatory to define.\n",
    "    ##### iterations: number of iterations\n",
    "\n",
    "    ## OUTPUTS\n",
    "    ##### parameters_best: best parameters for CV after optimization\n",
    "    ##### iteration_best: iteration number at which parameters are the best for CV\n",
    "    ##### cost: list with cost in training\n",
    "    ##### acc: list with accuracy in training\n",
    "    ##### cost_CV: list with cost in cross validation\n",
    "    ##### acc_CV: list with accuracy in cross validation\n",
    "    ##### parameters: parameters at last iteration\n",
    "    ##### grads: grads at last iteration\n",
    "    ##### S: S at last iteration\n",
    "    ##### V: V at last iteration\n",
    "    \n",
    "    # Input length\n",
    "    n_x=x_train.shape[0]\n",
    "    \n",
    "    # number of training samples\n",
    "    m_train=x_train.shape[1]\n",
    "    \n",
    "    # number of CV samples\n",
    "    m_CV=x_CV.shape[1]\n",
    "    \n",
    "    # NN parameters initialization\n",
    "    parameters=initialize_NN(L,n_x,n_h,typeN)\n",
    "    \n",
    "    ## Parameters for early stopping\n",
    "    early_stopping_flag=0 # Counter the number of iterations since last best parameters value\n",
    "    cost_best=1e10        # Best cost parameter\n",
    "    \n",
    "    ## Parameters for learning rate reduction\n",
    "    LR_flag=0 # Counter the number of iterations since last best parameters value\n",
    "    \n",
    "    ## Initialization of list for cost and acc \n",
    "    cost=[]\n",
    "    cost_CV=[]\n",
    "    acc=[]\n",
    "    acc_CV=[]\n",
    "    \n",
    "    # Creates a function for loss according to cross entropy with the type of activation in last layer\n",
    "    loss=loss_function(typeN)    \n",
    "    \n",
    "    \n",
    "    # Extraction of parameters from solver_parameters\n",
    "    if \"learning_rate\" in solver_parameters.keys():\n",
    "        learning_rate=solver_parameters[\"learning_rate\"]\n",
    "    else:\n",
    "        learning_rate=0.1\n",
    "    learning_rate_used=learning_rate       \n",
    "    \n",
    "    if \"lambda_regularization\" in solver_parameters.keys():\n",
    "        lambda_regularization=solver_parameters[\"lambda_regularization\"]\n",
    "    else:\n",
    "        lambda_regularization=0      \n",
    "    \n",
    "    if \"early_stopping\" in solver_parameters.keys():\n",
    "        early_stopping=solver_parameters[\"early_stopping\"]\n",
    "    else:\n",
    "        early_stopping=-1\n",
    " \n",
    "    if \"learning_rate_reduction\" in solver_parameters.keys():\n",
    "        learning_rate_reduction=solver_parameters[\"learning_rate_reduction\"]\n",
    "    else:\n",
    "        learning_rate_reduction=1 \n",
    "        \n",
    "    if \"min_learning_rate\" in solver_parameters.keys():\n",
    "        min_learning_rate=solver_parameters[\"min_learning_rate\"]\n",
    "    else:\n",
    "        min_learning_rate=0 \n",
    "        \n",
    "    if \"learning_rate_patience\" in solver_parameters.keys():\n",
    "        learning_rate_patience=solver_parameters[\"learning_rate_patience\"]\n",
    "    else:\n",
    "        learning_rate_patience=1e6 \n",
    "        \n",
    "    # Solver initialization\n",
    "    if solver_parameters[\"Type\"] == \"GradientDescent\":\n",
    "        b=m_train\n",
    "    \n",
    "    elif solver_parameters[\"Type\"] == \"GradientDescentMiniBatch\":\n",
    "        b=solver_parameters[\"b\"]\n",
    "        if \"beta1\" in solver_parameters.keys():\n",
    "            beta1=solver_parameters[\"beta1\"]\n",
    "        else:\n",
    "            beta1=0.9\n",
    "    elif solver_parameters[\"Type\"] == \"GradientDescentMomentum\":\n",
    "        b=solver_parameters[\"b\"]\n",
    "        if \"beta1\" in solver_parameters.keys():\n",
    "            beta1=solver_parameters[\"beta1\"]\n",
    "        else:\n",
    "            beta1=0.9\n",
    "        V=initialize_grad(L,n_x,n_h)\n",
    "        \n",
    "    elif solver_parameters[\"Type\"] == \"ADAM\":\n",
    "        b=solver_parameters[\"b\"]\n",
    "        if \"beta1\" in solver_parameters.keys():\n",
    "            beta1=solver_parameters[\"beta1\"]\n",
    "        else:\n",
    "            beta1=0.9\n",
    "        if \"beta2\" in solver_parameters.keys():\n",
    "            beta2=solver_parameters[\"beta2\"]\n",
    "        else:\n",
    "            beta2=0.999\n",
    "        V=initialize_grad(L,n_x,n_h)\n",
    "        S=initialize_grad(L,n_x,n_h,1)\n",
    "        counter=1\n",
    "     \n",
    "    \n",
    "    for i in range(iterations):\n",
    "        for j in range(int(np.ceil(m_train/b))):\n",
    "            xx=x_train[:,(j)*b:(j+1)*b] ## Data for current batch\n",
    "            yy=Y_train[:,(j)*b:(j+1)*b] ## Label for current batch\n",
    "            b_aux=xx.shape[1]           ## number of samples of current batch, can be lower than b for last batch\n",
    "            \n",
    "            # Feedforward propagation\n",
    "            A,Z=feedforward_model(parameters,typeN,xx)\n",
    "            \n",
    "            # Calculation of cost function\n",
    "            costs=loss(A[L],yy)+RegularizationL2_cost(parameters,lambda_regularization,b)\n",
    "            \n",
    "            # Calculation of accuracy\n",
    "            accs=accuracy(Y2y(A[L]),Y2y(yy))\n",
    "         \n",
    "            # Backprop\n",
    "            grads=backprop_model(parameters,typeN,xx,yy,A,Z)\n",
    "            \n",
    "            # Addition of L2 regularization\n",
    "            grads=RegularizationL2(parameters,grads,lambda_regularization,b)\n",
    "            \n",
    "            # Correction of cost and accs for non full batch methods\n",
    "            if solver_parameters[\"Type\"] != \"GradientDescent\":\n",
    "                if ((i>0)&(j>0)):\n",
    "                    costs=beta1*cost_old+(1-beta1)*costs\n",
    "                    accs=beta1*acc_old+(1-beta1)*accs\n",
    "                cost_old=costs\n",
    "                acc_old=accs \n",
    "               \n",
    "            # Correction of gradient according to selected method:\n",
    "            if solver_parameters[\"Type\"] == \"GradientDescentMomentum\":\n",
    "                grads=EWA(grads,V,n_x,n_h,beta1)\n",
    "                V=grads\n",
    "                \n",
    "            elif solver_parameters[\"Type\"] == \"ADAM\":\n",
    "                grads,V,S,counter=ADAM_grad(grads,V,S,n_x,n_h,beta1,beta2,counter)\n",
    "            \n",
    "            # Update parameters\n",
    "            parameters=update_parameters(parameters,grads,learning_rate_used)\n",
    "\n",
    "        # Append cost and accuracy\n",
    "        cost.append(costs)\n",
    "        acc.append(accs)\n",
    "        \n",
    "        # CV prediction\n",
    "        YPred_CV=evaluate(parameters,typeN,x_CV)\n",
    "        cost_CVs=loss(YPred_CV,Y_CV)+RegularizationL2_cost(parameters,lambda_regularization,b)\n",
    "        cost_CV.append(cost_CVs)\n",
    "        acc_CVs=accuracy(Y2y(YPred_CV),Y2y(Y_CV))\n",
    "        acc_CV.append(acc_CVs)\n",
    "        \n",
    "        # Print results\n",
    "        if i%10==0:\n",
    "            print(\"iteration: %d // cost_train: %f // acc_train: %f // cost_CV: %f // acc_CV: %f\" % (i, costs, accs,cost_CVs,acc_CVs))\n",
    "\n",
    "        # Learning rate reduction\n",
    "        if cost_best>cost_CVs:\n",
    "            LR_flag=0\n",
    "        else:\n",
    "            LR_flag = LR_flag + 1\n",
    "            if LR_flag>=learning_rate_patience:\n",
    "                learning_rate_used=max(learning_rate_used*learning_rate_reduction,min_learning_rate)\n",
    "                LR_flag=0\n",
    "                print(\"New learning rate: %f at iteration %i\" %(learning_rate_used,i))\n",
    "            \n",
    "        # Store of best solution & early stopping\n",
    "        if cost_best>cost_CVs:\n",
    "            parameters_best=parameters\n",
    "            iteration_best=i\n",
    "            cost_best=cost_CVs\n",
    "            early_stopping_flag=0\n",
    "        else:\n",
    "            if early_stopping>0:\n",
    "                early_stopping_flag = early_stopping_flag + 1\n",
    "                if early_stopping_flag>=early_stopping:\n",
    "                    break\n",
    "            \n",
    "    return parameters_best,iteration_best, cost, acc, cost_CV, acc_CV,parameters,grads,S,V"
   ]
  },
  {
   "cell_type": "markdown",
   "metadata": {},
   "source": [
    "# Run model"
   ]
  },
  {
   "cell_type": "code",
   "execution_count": 53,
   "metadata": {
    "scrolled": false
   },
   "outputs": [
    {
     "name": "stdout",
     "output_type": "stream",
     "text": [
      "iteration: 0 // cost_train: 2.624391 // acc_train: 0.464286 // cost_CV: 2.583436 // acc_CV: 0.512500\n",
      "iteration: 10 // cost_train: 0.937352 // acc_train: 0.912111 // cost_CV: 0.943206 // acc_CV: 0.913250\n",
      "iteration: 20 // cost_train: 0.802188 // acc_train: 0.945056 // cost_CV: 0.828412 // acc_CV: 0.938000\n",
      "iteration: 30 // cost_train: 0.696778 // acc_train: 0.963644 // cost_CV: 0.731528 // acc_CV: 0.950750\n",
      "iteration: 40 // cost_train: 0.605751 // acc_train: 0.974213 // cost_CV: 0.646069 // acc_CV: 0.960500\n",
      "iteration: 50 // cost_train: 0.521953 // acc_train: 0.982514 // cost_CV: 0.567071 // acc_CV: 0.965750\n",
      "iteration: 60 // cost_train: 0.443036 // acc_train: 0.988304 // cost_CV: 0.493076 // acc_CV: 0.968750\n",
      "iteration: 70 // cost_train: 0.369733 // acc_train: 0.992561 // cost_CV: 0.423820 // acc_CV: 0.972000\n",
      "iteration: 80 // cost_train: 0.303671 // acc_train: 0.994574 // cost_CV: 0.360595 // acc_CV: 0.972750\n",
      "iteration: 90 // cost_train: 0.246754 // acc_train: 0.996291 // cost_CV: 0.304933 // acc_CV: 0.975000\n",
      "iteration: 100 // cost_train: 0.200629 // acc_train: 0.997130 // cost_CV: 0.259530 // acc_CV: 0.976000\n",
      "iteration: 110 // cost_train: 0.166084 // acc_train: 0.997633 // cost_CV: 0.225337 // acc_CV: 0.976500\n",
      "iteration: 120 // cost_train: 0.142318 // acc_train: 0.998058 // cost_CV: 0.201616 // acc_CV: 0.977500\n",
      "iteration: 130 // cost_train: 0.127388 // acc_train: 0.998172 // cost_CV: 0.186598 // acc_CV: 0.977250\n",
      "iteration: 140 // cost_train: 0.118801 // acc_train: 0.998353 // cost_CV: 0.177224 // acc_CV: 0.977500\n",
      "New learning rate: 0.050000 at iteration 146\n",
      "iteration: 150 // cost_train: 0.114596 // acc_train: 0.997947 // cost_CV: 0.174414 // acc_CV: 0.976750\n",
      "iteration: 160 // cost_train: 0.111851 // acc_train: 0.998147 // cost_CV: 0.171639 // acc_CV: 0.976500\n",
      "iteration: 170 // cost_train: 0.109763 // acc_train: 0.998574 // cost_CV: 0.168006 // acc_CV: 0.978250\n",
      "iteration: 180 // cost_train: 0.108422 // acc_train: 0.998734 // cost_CV: 0.166452 // acc_CV: 0.977750\n",
      "New learning rate: 0.025000 at iteration 182\n",
      "iteration: 190 // cost_train: 0.106531 // acc_train: 0.998561 // cost_CV: 0.161202 // acc_CV: 0.976750\n",
      "iteration: 200 // cost_train: 0.105484 // acc_train: 0.998442 // cost_CV: 0.159503 // acc_CV: 0.977750\n",
      "New learning rate: 0.012500 at iteration 207\n",
      "iteration: 210 // cost_train: 0.105306 // acc_train: 0.998329 // cost_CV: 0.161112 // acc_CV: 0.975500\n",
      "New learning rate: 0.006250 at iteration 210\n",
      "iteration: 220 // cost_train: 0.103258 // acc_train: 0.998951 // cost_CV: 0.157882 // acc_CV: 0.977250\n",
      "iteration: 230 // cost_train: 0.102787 // acc_train: 0.998816 // cost_CV: 0.156919 // acc_CV: 0.977000\n",
      "iteration: 240 // cost_train: 0.102543 // acc_train: 0.998922 // cost_CV: 0.156125 // acc_CV: 0.977000\n",
      "New learning rate: 0.003125 at iteration 248\n",
      "iteration: 250 // cost_train: 0.102112 // acc_train: 0.999014 // cost_CV: 0.157067 // acc_CV: 0.977000\n",
      "New learning rate: 0.001563 at iteration 251\n",
      "New learning rate: 0.000781 at iteration 254\n"
     ]
    }
   ],
   "source": [
    "solver_parameters={}\n",
    "solver_parameters[\"lambda_regularization\"]=1\n",
    "solver_parameters[\"learning_rate\"]=0.1\n",
    "solver_parameters[\"learning_rate_reduction\"]=0.5\n",
    "solver_parameters[\"min_learning_rate\"]=0.0001\n",
    "solver_parameters[\"learning_rate_patience\"]=3\n",
    "solver_parameters[\"b\"]=1024\n",
    "solver_parameters[\"early_stopping\"]=10\n",
    "solver_parameters[\"beta1\"]=0.9\n",
    "solver_parameters[\"beta2\"]=0.999\n",
    "solver_parameters[\"Type\"]=\"ADAM\"\n",
    "iterations=20000\n",
    "parameters,iteration_best, cost, acc, cost_CV, acc_CV,par,grads,S,V=model(x_train,Y_train,x_CV,Y_CV,L,n_h,typeN,\n",
    "                                                                     solver_parameters,iterations)"
   ]
  },
  {
   "cell_type": "markdown",
   "metadata": {},
   "source": [
    "# Print results"
   ]
  },
  {
   "cell_type": "code",
   "execution_count": 54,
   "metadata": {},
   "outputs": [
    {
     "data": {
      "image/png": "[encoded data removed]",
      "text/plain": [
       "<Figure size 432x288 with 1 Axes>"
      ]
     },
     "metadata": {
      "needs_background": "light"
     },
     "output_type": "display_data"
    }
   ],
   "source": [
    "fig, ax = plt.subplots()\n",
    "\n",
    "x=np.linspace(0,len(acc_CV),num=len(acc))\n",
    "line1, = ax.plot(x, np.array(acc),label='Acc train')\n",
    "x=np.arange(len(acc_CV))\n",
    "line2, = ax.plot(x, np.array(acc_CV),label='Acc CV')\n",
    "ax.legend()\n",
    "ax.set(xlim=(0, len(acc_CV)), ylim=(0.9, 1))\n",
    "plt.show()\n"
   ]
  },
  {
   "cell_type": "code",
   "execution_count": 55,
   "metadata": {},
   "outputs": [
    {
     "data": {
      "image/png": "[encoded data removed]",
      "text/plain": [
       "<Figure size 432x288 with 1 Axes>"
      ]
     },
     "metadata": {
      "needs_background": "light"
     },
     "output_type": "display_data"
    }
   ],
   "source": [
    "fig, ax = plt.subplots()\n",
    "\n",
    "x=np.linspace(0,len(cost_CV),num=len(cost))\n",
    "line1, = ax.plot(x, np.array(cost),label='Cost train')\n",
    "x=np.arange(len(cost_CV))\n",
    "line2, = ax.plot(x, np.array(cost_CV),label='Cost CV')\n",
    "ax.legend()\n",
    "plt.show()"
   ]
  },
  {
   "cell_type": "markdown",
   "metadata": {},
   "source": [
    "# Timing at each step\n",
    "This section measures the time occupied in each task"
   ]
  },
  {
   "cell_type": "code",
   "execution_count": 56,
   "metadata": {},
   "outputs": [
    {
     "name": "stdout",
     "output_type": "stream",
     "text": [
      "Time in feedforwards:  0.4925177574157715\n"
     ]
    }
   ],
   "source": [
    "#Time of feedforward\n",
    "start = time.time()\n",
    "number=10\n",
    "for i in range(number):\n",
    "    A,Z=feedforward_model(parameters,typeN,x_train)\n",
    "end = time.time()\n",
    "print(\"Time in feedforwards: \", (end - start)/number)"
   ]
  },
  {
   "cell_type": "code",
   "execution_count": 57,
   "metadata": {},
   "outputs": [
    {
     "name": "stdout",
     "output_type": "stream",
     "text": [
      "Time in backprop:  0.5297061920166015\n"
     ]
    }
   ],
   "source": [
    "#Time of backprop\n",
    "start = time.time()\n",
    "number=10\n",
    "for i in range(number):\n",
    "    grads=backprop_model(parameters,typeN,x_train,Y_train,A,Z)\n",
    "end = time.time()\n",
    "print(\"Time in backprop: \", (end - start)/number)"
   ]
  },
  {
   "cell_type": "code",
   "execution_count": 58,
   "metadata": {},
   "outputs": [
    {
     "name": "stdout",
     "output_type": "stream",
     "text": [
      "Time in regularization grad:  0.0026728463172912597\n"
     ]
    }
   ],
   "source": [
    "#Time of regularization grad\n",
    "start = time.time()\n",
    "number=100\n",
    "for i in range(number):\n",
    "    grada=RegularizationL2(parameters,grads,1,m_train)\n",
    "end = time.time()\n",
    "print(\"Time in regularization grad: \", (end - start)/number)"
   ]
  },
  {
   "cell_type": "code",
   "execution_count": 59,
   "metadata": {},
   "outputs": [
    {
     "name": "stdout",
     "output_type": "stream",
     "text": [
      "Time in cost and accuracy:  0.020734241008758546\n"
     ]
    }
   ],
   "source": [
    "#Time of cost and accuracy\n",
    "start = time.time()\n",
    "number=100\n",
    "for i in range(number):\n",
    "    cost=sigmoid_cost(A[L],Y_train)+RegularizationL2_cost(parameters,1,m_train)\n",
    "    acc=accuracy(Y2y(A[L]),y_train)\n",
    "end = time.time()\n",
    "print(\"Time in cost and accuracy: \", (end - start)/number)"
   ]
  },
  {
   "cell_type": "code",
   "execution_count": 60,
   "metadata": {},
   "outputs": [
    {
     "name": "stdout",
     "output_type": "stream",
     "text": [
      "Time in backprop:  0.011056232452392577\n"
     ]
    }
   ],
   "source": [
    "# Time at ADAM\n",
    "start = time.time()\n",
    "number=20\n",
    "for i in range(number):\n",
    "    grads1,V1,S1,counter=ADAM_grad(grads,V,S,n_x,n_h,0.9,0.999,1)\n",
    "end = time.time()\n",
    "print(\"Time in backprop: \", (end - start)/number)\n"
   ]
  },
  {
   "cell_type": "markdown",
   "metadata": {},
   "source": [
    "# Gradient checking\n",
    "Gradient checking is used to assure backprop is right"
   ]
  },
  {
   "cell_type": "code",
   "execution_count": 101,
   "metadata": {},
   "outputs": [
    {
     "name": "stdout",
     "output_type": "stream",
     "text": [
      "Maximum difference between vectors is: 0.210344·10^(-7)\n"
     ]
    }
   ],
   "source": [
    "def Wb2vector(parameters,name):\n",
    "    ## This function flattens the parameter dictionary in one column vector\n",
    "    ## INPUTS:\n",
    "    ##### parameters: parameters of all the layers (\"W_\" and \"b_\")\n",
    "    ##### name: list that contains the name of the dictionary keys: [\"W\",\"b\"] or[\"dW\",\"db\"]\n",
    "    ## OUTPUTS\n",
    "    ##### vector: one-column vector with parameters flattened\n",
    "    L=len(parameters)//2\n",
    "\n",
    "    vector=parameters[name[0]+str(1)].reshape(-1,1)\n",
    "    vector=np.vstack((vector,parameters[name[1]+str(1)].reshape(-1,1)))\n",
    "    if L>1:\n",
    "        for l in range(2,L+1):\n",
    "            vector=np.vstack((vector,parameters[name[0]+str(l)].reshape(-1,1)))\n",
    "            vector=np.vstack((vector,parameters[name[1]+str(l)].reshape(-1,1)))\n",
    "    return vector\n",
    "\n",
    "def vector2Wb(parameters, vector,name):\n",
    "    ## This function undo Wb2vector\n",
    "    ## INPUTS:\n",
    "    ##### parameters: parameters of all the layers (\"W_\" and \"b_\")\n",
    "    ##### vector: one-column vector with parameters flattened\n",
    "    ##### name: list that contains the name of the dictionary keys: [\"W\",\"b\"] or[\"dW\",\"db\"]\n",
    "    ## OUTPUTS\n",
    "    ##### parameters: parameters of all the layers (\"W_\" and \"b_\")\n",
    "    L=len(parameters)//2\n",
    "    parameters_aux={}\n",
    "    cont=0\n",
    "    nf=parameters[name[0]+str(1)].shape[0]\n",
    "    nc=parameters[name[0]+str(1)].shape[1]\n",
    "    parameters_aux[name[0]+str(1)]=vector[cont:cont+nf*nc].reshape(nf,nc)\n",
    "    cont+=nf*nc\n",
    "    nf=parameters[name[1]+str(1)].shape[0]\n",
    "    nc=parameters[name[1]+str(1)].shape[1]\n",
    "    parameters_aux[name[1]+str(1)]=vector[cont:cont+nf*nc].reshape(nf,nc)\n",
    "    cont+=nf*nc\n",
    "    if L>1:\n",
    "        for l in range(2,L+1):\n",
    "            nf=parameters[name[0]+str(l)].shape[0]\n",
    "            nc=parameters[name[0]+str(l)].shape[1]\n",
    "            parameters_aux[name[0]+str(l)]=vector[cont:cont+nf*nc].reshape(nf,nc)\n",
    "            cont+=nf*nc\n",
    "            nf=parameters[name[1]+str(l)].shape[0]\n",
    "            nc=parameters[name[1]+str(l)].shape[1]\n",
    "            parameters_aux[name[1]+str(l)]=vector[cont:cont+nf*nc].reshape(nf,nc)\n",
    "            cont+=nf*nc\n",
    "    return parameters_aux\n",
    "\n",
    "# Creation of dummy parameters, xx and yy\n",
    "parameters={}\n",
    "parameters[\"W1\"]=np.random.rand(4,5)\n",
    "parameters[\"W2\"]=np.random.rand(3,4)\n",
    "parameters[\"W3\"]=np.random.rand(10,3)\n",
    "parameters[\"b1\"]=np.random.rand(4,1)\n",
    "parameters[\"b2\"]=np.random.rand(3,1)\n",
    "parameters[\"b3\"]=np.random.rand(10,1)\n",
    "xx=np.random.rand(5,10)\n",
    "yy_aux=np.random.randint(0,10,(1,10))\n",
    "yy=np.zeros((10,yy_aux.shape[1]))\n",
    "yy[yy_aux,range(yy_aux.shape[1])]=1\n",
    "\n",
    "lambda_regularization=1\n",
    "\n",
    "# Cost function\n",
    "loss=loss_function(typeN) \n",
    "\n",
    "# feedforward+backprop\n",
    "m_xx=xx.shape[1]\n",
    "A,Z=feedforward_model(parameters,typeN,xx)\n",
    "costs_f=loss(A[L],yy)+RegularizationL2_cost(parameters,lambda_regularization,m_xx)\n",
    "grads=backprop_model(parameters,typeN,xx,yy,A,Z)\n",
    "grads=RegularizationL2(parameters,grads,lambda_regularization,m_xx)\n",
    "grads_V=Wb2vector(grads,[\"dW\",\"db\"])\n",
    "\n",
    "\n",
    "# Gradient checking\n",
    "V=Wb2vector(parameters,[\"W\",\"b\"])\n",
    "d=V.shape[0]\n",
    "grad_approx=np.zeros((d,1))\n",
    "epsilon=0.000001\n",
    "for i in range(d):\n",
    "    aux=np.copy(V)\n",
    "    aux[i]=aux[i]+epsilon\n",
    "    parameters_aux=vector2Wb(parameters, aux,[\"W\",\"b\"])\n",
    "    A,Z=feedforward_model(parameters_aux,typeN,xx)\n",
    "    cost_aux_P=loss(A[L],yy)+RegularizationL2_cost(parameters_aux,lambda_regularization,m_xx)\n",
    "    aux=np.copy(V)\n",
    "    aux[i]=aux[i]-epsilon\n",
    "    parameters_aux=vector2Wb(parameters, aux,[\"W\",\"b\"])\n",
    "    A,Z=feedforward_model(parameters_aux,typeN,xx)\n",
    "    cost_aux_N=loss(A[L],yy)+RegularizationL2_cost(parameters_aux,lambda_regularization,m_xx)\n",
    "    grad_approx[i]=(cost_aux_P-cost_aux_N)/(2*epsilon)\n",
    "    \n",
    "maximum_difference=((np.abs(grad_approx-grads_V))/grads_V).max()\n",
    "print(\"Maximum difference between vectors is: %f·10^(-7)\" %(maximum_difference*1e7))\n",
    "#print(np.hstack((grads_V.reshape(-1,1),grad_approx.reshape(-1,1))))\n"
   ]
  },
  {
   "cell_type": "code",
   "execution_count": null,
   "metadata": {},
   "outputs": [],
   "source": []
  },
  {
   "cell_type": "code",
   "execution_count": null,
   "metadata": {},
   "outputs": [],
   "source": []
  },
  {
   "cell_type": "code",
   "execution_count": null,
   "metadata": {},
   "outputs": [],
   "source": []
  },
  {
   "cell_type": "code",
   "execution_count": null,
   "metadata": {},
   "outputs": [],
   "source": []
  },
  {
   "cell_type": "code",
   "execution_count": null,
   "metadata": {},
   "outputs": [],
   "source": []
  },
  {
   "cell_type": "code",
   "execution_count": null,
   "metadata": {},
   "outputs": [],
   "source": []
  }
 ],
 "metadata": {
  "kernelspec": {
   "display_name": "Python 3",
   "language": "python",
   "name": "python3"
  },
  "language_info": {
   "codemirror_mode": {
    "name": "ipython",
    "version": 3
   },
   "file_extension": ".py",
   "mimetype": "text/x-python",
   "name": "python",
   "nbconvert_exporter": "python",
   "pygments_lexer": "ipython3",
   "version": "3.7.6"
  }
 },
 "nbformat": 4,
 "nbformat_minor": 2
}
